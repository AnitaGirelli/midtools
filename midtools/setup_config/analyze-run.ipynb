{
 "cells": [
  {
   "cell_type": "markdown",
   "metadata": {},
   "source": [
    "Make sure you have Python 3.8."
   ]
  },
  {
   "cell_type": "code",
   "execution_count": null,
   "metadata": {},
   "outputs": [],
   "source": [
    "import sys\n",
    "! {sys.executable} --version"
   ]
  },
  {
   "cell_type": "markdown",
   "metadata": {},
   "source": [
    "**Imports**"
   ]
  },
  {
   "cell_type": "code",
   "execution_count": null,
   "metadata": {
    "ExecuteTime": {
     "end_time": "2019-08-17T08:25:50.491141Z",
     "start_time": "2019-08-17T08:25:48.209806Z"
    }
   },
   "outputs": [],
   "source": [
    "%matplotlib notebook\n",
    "%load_ext autoreload\n",
    "%autoreload 2\n",
    "\n",
    "import os\n",
    "import pandas  # used to load metadata table\n",
    "import numpy as np"
   ]
  },
  {
   "cell_type": "markdown",
   "metadata": {},
   "source": [
    "**Import midtools methods**"
   ]
  },
  {
   "cell_type": "code",
   "execution_count": null,
   "metadata": {},
   "outputs": [],
   "source": [
    "import midtools\n",
    "from midtools.scheduler import Scheduler\n",
    "from midtools.scheduler import start_midtools"
   ]
  },
  {
   "cell_type": "markdown",
   "metadata": {},
   "source": [
    "## Setting Paths"
   ]
  },
  {
   "cell_type": "markdown",
   "metadata": {},
   "source": [
    "Specify the output directory for the results (`BASE_DIR`) and for the SLURM logs (`JOB_DIR`). The later will be used for monitoring the progress of the jobs."
   ]
  },
  {
   "cell_type": "code",
   "execution_count": null,
   "metadata": {},
   "outputs": [],
   "source": [
    "JOB_DIR = \"./jobs\"\n",
    "BASE_DIR = \"./analyzed_runs/\""
   ]
  },
  {
   "cell_type": "markdown",
   "metadata": {},
   "source": [
    "Midtools is shipped with a mask but you probably want to make your own at a later stage. The mask needs to by stored as an `npy` file and must have the shape (16,512,128)."
   ]
  },
  {
   "cell_type": "code",
   "execution_count": null,
   "metadata": {},
   "outputs": [],
   "source": [
    "maskfile = midtools.__path__[0]+'/setup_config/darkmask_r0283_00.npy'\n",
    "print(f\"Mask exists: {os.path.exists(maskfile)}.\")\n",
    "print(f\"Maskfile is: {maskfile}\")\n",
    "print(f\"Maskshape is: {np.load(maskfile).shape}\")"
   ]
  },
  {
   "cell_type": "markdown",
   "metadata": {},
   "source": [
    "## Setupfiles\n",
    "\n",
    "Setupfiles are used to set most of the parameters. Next to each result-file the setupfile is stored that was used to generate the results.\n",
    "\n",
    "**Change the maskfile!**: to the maskfile from the last cell."
   ]
  },
  {
   "cell_type": "code",
   "execution_count": null,
   "metadata": {},
   "outputs": [],
   "source": [
    "%%writefile base_setupfile.yml\n",
    "mask: /gpfs/exfel/data/user/reiserm/projects/proteins/mid-p2458/midtools/midtools/setup_config/darkmask_r0283_00.npy\n",
    "photon_energy: 9\n",
    "pixel_size: 200\n",
    "quadrant_positions:\n",
    "  dx: -4.0\n",
    "  dy: 14.0\n",
    "  q1:\n",
    "  - -540.0\n",
    "  - 657.0\n",
    "  q2:\n",
    "  - -610.0\n",
    "  - -34.0\n",
    "  q3:\n",
    "  - 530.0\n",
    "  - -230.0\n",
    "  q4:\n",
    "  - 582.0\n",
    "  - 470.0\n",
    "sample_detector: 8\n",
    "xpcs_opt:\n",
    "  norm: symmetric\n",
    "  q_range:\n",
    "    nsteps: 10\n",
    "    q_first: 0.1\n",
    "    q_last: 0.3"
   ]
  },
  {
   "cell_type": "markdown",
   "metadata": {},
   "source": [
    "Let's have a look at the created setupfile."
   ]
  },
  {
   "cell_type": "code",
   "execution_count": null,
   "metadata": {},
   "outputs": [],
   "source": [
    "!cat base_setupfile.yml"
   ]
  },
  {
   "cell_type": "markdown",
   "metadata": {},
   "source": [
    "The metadata of our MID beamtime in fall 2020 is available, but usually you need to figure out all the parameters yourself or ask your local contact. As an example, we analyze run 280 of experiment 2718, which is nanoparticles in water. "
   ]
  },
  {
   "cell_type": "code",
   "execution_count": null,
   "metadata": {},
   "outputs": [],
   "source": [
    "# example silica nanoparticles\n",
    "run_number = 280\n",
    "proposal = 2718\n",
    "\n",
    "# Ig-PEG \n",
    "# run_number = 300  #340 for different rates\n",
    "# proposal = 2718\n",
    "\n",
    "# this only works when you have created a metadata datatable\n",
    "meta = pandas.read_pickle(midtools.__path__[0]+'/setup_config/metadata.pkl')\n",
    "meta.loc[(proposal,run_number)]"
   ]
  },
  {
   "cell_type": "markdown",
   "metadata": {},
   "source": [
    "`starts_midtools` submits a job to run the analysis. The keyword argument `test` can be set to see the batch file without actually submitting the job. The parameters in the next cell have been set for you. Check the output and then change `TEST=False` to submit the job.\n",
    "\n",
    "**Note:** The data direcotry (datdir) in the metadata table is not correct, but the datdir in the next cell is."
   ]
  },
  {
   "cell_type": "code",
   "execution_count": null,
   "metadata": {},
   "outputs": [],
   "source": [
    "TEST = True\n",
    "\n",
    "start_midtools(\n",
    "          proposal,\n",
    "          run_number,\n",
    "          setupfile='base_setupfile.yml',\n",
    "          pulses_per_train=200,\n",
    "          datdir='/gpfs/exfel/exp/MID/202002/p002718/proc/',\n",
    "          first_train=0,\n",
    "          last_train=100,\n",
    "          first_cell=130,\n",
    "          pulse_step=1,\n",
    "          test=TEST,\n",
    "          jobdir=JOB_DIR,\n",
    "          base_dir=BASE_DIR,\n",
    ")"
   ]
  },
  {
   "cell_type": "markdown",
   "metadata": {},
   "source": [
    "## Monitor Jobs"
   ]
  },
  {
   "cell_type": "markdown",
   "metadata": {},
   "source": [
    "Use the following set of widgets to monitor your analysis jobs. Start by clicking on `Update Job Table`. `list jobs` will list all your SLURM jobs."
   ]
  },
  {
   "cell_type": "code",
   "execution_count": null,
   "metadata": {},
   "outputs": [],
   "source": [
    "!ls analyzed_runs/p002718/"
   ]
  },
  {
   "cell_type": "code",
   "execution_count": null,
   "metadata": {},
   "outputs": [],
   "source": [
    "scheduler = Scheduler(JOB_DIR)  \n",
    "scheduler.gui()"
   ]
  },
  {
   "cell_type": "markdown",
   "metadata": {},
   "source": [
    "## Open HDF File"
   ]
  },
  {
   "cell_type": "markdown",
   "metadata": {},
   "source": [
    "Check the contents of the resulting HDF5 file."
   ]
  },
  {
   "cell_type": "code",
   "execution_count": null,
   "metadata": {},
   "outputs": [],
   "source": [
    "import h5py"
   ]
  },
  {
   "cell_type": "code",
   "execution_count": null,
   "metadata": {},
   "outputs": [],
   "source": [
    "filename = './analyzed_runs/p002718/r0280-analysis_001.h5'\n",
    "with h5py.File(filename, 'r') as f:\n",
    "    f.visit(print)"
   ]
  },
  {
   "cell_type": "code",
   "execution_count": null,
   "metadata": {},
   "outputs": [],
   "source": []
  }
 ],
 "metadata": {
  "hide_input": false,
  "kernelspec": {
   "display_name": "midtools",
   "language": "python",
   "name": "midtools"
  },
  "language_info": {
   "codemirror_mode": {
    "name": "ipython",
    "version": 3
   },
   "file_extension": ".py",
   "mimetype": "text/x-python",
   "name": "python",
   "nbconvert_exporter": "python",
   "pygments_lexer": "ipython3",
   "version": "3.8.12"
  },
   "window_display": false
 },
 "nbformat": 4,
 "nbformat_minor": 2
}
